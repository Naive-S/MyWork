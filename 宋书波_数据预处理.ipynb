{
 "cells": [
  {
   "cell_type": "code",
   "execution_count": 2,
   "id": "0d3d6892",
   "metadata": {
    "tags": []
   },
   "outputs": [],
   "source": [
    "import numpy as np\n",
    "from sklearn.datasets import load_iris\n",
    "from sklearn.impute import SimpleImputer\n",
    "from sklearn.model_selection import train_test_split\n",
    "from sklearn.neighbors import KNeighborsClassifier\n",
    "from sklearn.metrics import accuracy_score, precision_score, recall_score, f1_score\n",
    "\n",
    "# 加载Iris数据集\n",
    "iris = load_iris()\n",
    "\n",
    "# 获取特征数据和目标数据\n",
    "X, y = iris.data, iris.target\n",
    "\n",
    "# 定义随机种子，以确保可重复实验\n",
    "random_seed = 42\n",
    "np.random.seed(random_seed)\n",
    "\n",
    "# 计算要删除的属性值数量\n",
    "num_values_to_remove = int(0.05 * X.size)\n",
    "\n",
    "# 随机选择要删除的属性值的索引\n",
    "values_to_remove = np.random.choice(X.size, num_values_to_remove, replace=False)\n",
    "\n",
    "# 将要删除的属性值设置为np.nan\n",
    "X_flat = X.flatten()\n",
    "X_flat[values_to_remove] = np.nan\n",
    "\n",
    "# 将数据重新构造为原始形状\n",
    "X = X_flat.reshape(X.shape)"
   ]
  },
  {
   "cell_type": "code",
   "execution_count": 3,
   "id": "3a9691da",
   "metadata": {
    "tags": []
   },
   "outputs": [
    {
     "name": "stdout",
     "output_type": "stream",
     "text": [
      "[[5.1        3.5        3.86478873 0.2       ]\n",
      " [4.9        3.         1.4        0.2       ]\n",
      " [4.7        3.2        3.86478873 0.2       ]\n",
      " [4.6        3.1        1.5        0.2       ]\n",
      " [5.         3.6        1.4        0.2       ]]\n"
     ]
    }
   ],
   "source": [
    "# 创建简单填充器，使用均值填充缺失值\n",
    "imputer = SimpleImputer(strategy='mean')\n",
    "\n",
    "# 使用填充器对数据进行填充\n",
    "X_mean = imputer.fit_transform(X)\n",
    "\n",
    "# 打印结果\n",
    "print(X_mean[:5,:])"
   ]
  },
  {
   "cell_type": "code",
   "execution_count": 4,
   "id": "977997f3",
   "metadata": {},
   "outputs": [
    {
     "name": "stdout",
     "output_type": "stream",
     "text": [
      "[[5.1 3.5 1.4 0.2]\n",
      " [4.9 3.  1.4 0.2]\n",
      " [4.7 3.2 1.4 0.2]\n",
      " [4.6 3.1 1.5 0.2]\n",
      " [5.  3.6 1.4 0.2]]\n"
     ]
    }
   ],
   "source": [
    "# 创建简单填充器，使用众数填充缺失值\n",
    "imputer = SimpleImputer(strategy='most_frequent')\n",
    "\n",
    "# 使用填充器对数据进行填充\n",
    "X_most_frequent = imputer.fit_transform(X)\n",
    "\n",
    "# 打印结果\n",
    "print(X_most_frequent[:5,:])"
   ]
  },
  {
   "cell_type": "code",
   "execution_count": 5,
   "id": "155897ad",
   "metadata": {},
   "outputs": [
    {
     "name": "stdout",
     "output_type": "stream",
     "text": [
      "[[5.1 3.5 4.4 0.2]\n",
      " [4.9 3.  1.4 0.2]\n",
      " [4.7 3.2 4.4 0.2]\n",
      " [4.6 3.1 1.5 0.2]\n",
      " [5.  3.6 1.4 0.2]]\n"
     ]
    }
   ],
   "source": [
    "# 创建简单填充器，使用中位数填充缺失值\n",
    "imputer = SimpleImputer(strategy='median')\n",
    "\n",
    "# 使用填充器对数据进行填充\n",
    "X_median = imputer.fit_transform(X)\n",
    "\n",
    "# 打印结果\n",
    "print(X_median[:5,:])"
   ]
  },
  {
   "cell_type": "markdown",
   "id": "219aa8a2",
   "metadata": {},
   "source": [
    "# 无缺失值"
   ]
  },
  {
   "cell_type": "code",
   "execution_count": 6,
   "id": "4de90910",
   "metadata": {},
   "outputs": [
    {
     "name": "stdout",
     "output_type": "stream",
     "text": [
      "Accuracy: 1.0\n",
      "Precision: 1.0\n",
      "Recall: 1.0\n",
      "F1-score: 1.0\n"
     ]
    }
   ],
   "source": [
    "# 读取iris数据集\n",
    "iris = load_iris()\n",
    "\n",
    "# k值设为3\n",
    "k = 3\n",
    "\n",
    "# 划分训练集和测试集，设置种子可重复实验\n",
    "X_train, X_test, y_train, y_test = train_test_split(iris.data, iris.target, test_size=0.2, random_state=42)\n",
    "\n",
    "# 创建knn分类器\n",
    "knn = KNeighborsClassifier(n_neighbors=k)\n",
    "\n",
    "# 训练模型\n",
    "knn.fit(X_train, y_train)\n",
    "\n",
    "# 预测测试集\n",
    "y_pred = knn.predict(X_test)\n",
    "\n",
    "# 计算性能指标\n",
    "print(\"Accuracy:\", accuracy_score(y_test, y_pred))\n",
    "print(\"Precision:\", precision_score(y_test, y_pred, average='macro'))\n",
    "print(\"Recall:\", recall_score(y_test, y_pred, average='macro'))\n",
    "print(\"F1-score:\", f1_score(y_test, y_pred, average='macro'))\n"
   ]
  },
  {
   "cell_type": "markdown",
   "id": "c07f6359",
   "metadata": {},
   "source": [
    "# 均值填充"
   ]
  },
  {
   "cell_type": "code",
   "execution_count": 7,
   "id": "91ae81ff",
   "metadata": {},
   "outputs": [
    {
     "name": "stdout",
     "output_type": "stream",
     "text": [
      "Accuracy: 1.0\n",
      "Precision: 1.0\n",
      "Recall: 1.0\n",
      "F1-score: 1.0\n"
     ]
    }
   ],
   "source": [
    "# 划分训练集和测试集，设置种子可重复实验\n",
    "X_mean_train, X_mean_test, y_mean_train, y_mean_test = train_test_split(X_mean, iris.target, test_size=0.2, random_state=42)\n",
    "\n",
    "# 训练模型\n",
    "knn.fit(X_mean_train, y_mean_train)\n",
    "\n",
    "# 预测测试集\n",
    "y_mean_pred = knn.predict(X_mean_test)\n",
    "\n",
    "# 计算性能指标\n",
    "print(\"Accuracy:\", accuracy_score(y_mean_test, y_mean_pred))\n",
    "print(\"Precision:\", precision_score(y_mean_test, y_mean_pred, average='macro'))\n",
    "print(\"Recall:\", recall_score(y_mean_test, y_mean_pred, average='macro'))\n",
    "print(\"F1-score:\", f1_score(y_mean_test, y_mean_pred, average='macro'))"
   ]
  },
  {
   "cell_type": "markdown",
   "id": "17909718",
   "metadata": {},
   "source": [
    "# 中位数填充"
   ]
  },
  {
   "cell_type": "code",
   "execution_count": 8,
   "id": "66034f99",
   "metadata": {},
   "outputs": [
    {
     "name": "stdout",
     "output_type": "stream",
     "text": [
      "Accuracy: 0.9666666666666667\n",
      "Precision: 0.9722222222222222\n",
      "Recall: 0.9629629629629629\n",
      "F1-score: 0.9658994032395567\n"
     ]
    }
   ],
   "source": [
    "# 划分训练集和测试集，设置种子可重复实验\n",
    "X_median_train, X_median_test, y_median_train, y_median_test = train_test_split(X_median, iris.target, test_size=0.2, random_state=42)\n",
    "\n",
    "# 训练模型\n",
    "knn.fit(X_median_train, y_median_train)\n",
    "\n",
    "# 预测测试集\n",
    "y_median_pred = knn.predict(X_median_test)\n",
    "\n",
    "# 计算性能指标\n",
    "print(\"Accuracy:\", accuracy_score(y_median_test, y_median_pred))\n",
    "print(\"Precision:\", precision_score(y_median_test, y_median_pred, average='macro'))\n",
    "print(\"Recall:\", recall_score(y_median_test, y_median_pred, average='macro'))\n",
    "print(\"F1-score:\", f1_score(y_median_test, y_median_pred, average='macro'))\n"
   ]
  },
  {
   "cell_type": "markdown",
   "id": "c8ff4ddc",
   "metadata": {},
   "source": [
    "# 众数填充"
   ]
  },
  {
   "cell_type": "code",
   "execution_count": 9,
   "id": "852e41ea",
   "metadata": {},
   "outputs": [
    {
     "name": "stdout",
     "output_type": "stream",
     "text": [
      "Accuracy: 1.0\n",
      "Precision: 1.0\n",
      "Recall: 1.0\n",
      "F1-score: 1.0\n"
     ]
    }
   ],
   "source": [
    "# 划分训练集和测试集，设置种子可重复实验\n",
    "X_most_frequent_train, X_most_frequent_test, y_most_frequent_train, y_most_frequent_test = train_test_split(X_most_frequent, iris.target, test_size=0.2, random_state=42)\n",
    "\n",
    "# 训练模型\n",
    "knn.fit(X_most_frequent_train, y_most_frequent_train)\n",
    "\n",
    "# 预测测试集\n",
    "y_most_frequent_pred = knn.predict(X_most_frequent_test)\n",
    "\n",
    "# 计算性能指标\n",
    "print(\"Accuracy:\", accuracy_score(y_most_frequent_test, y_most_frequent_pred))\n",
    "print(\"Precision:\", precision_score(y_most_frequent_test, y_most_frequent_pred, average='macro'))\n",
    "print(\"Recall:\", recall_score(y_most_frequent_test, y_most_frequent_pred, average='macro'))\n",
    "print(\"F1-score:\", f1_score(y_most_frequent_test, y_most_frequent_pred, average='macro'))\n"
   ]
  },
  {
   "cell_type": "markdown",
   "id": "548c11e6",
   "metadata": {},
   "source": [
    "|   |Accuracy|Precision|Recall|F1-score|\n",
    "|----|--------|---------|------|--------|\n",
    "|源数据|1.0|1.0|1.0|1.0|\n",
    "|中位数填充|1.0|1.0|1.0|1.0|\n",
    "|众数填充|1.0|1.0|1.0|1.0|\n",
    "|均值填充|0.9666666666666667|0.9722222222222222|0.9629629629629629|0.9658994032395567|"
   ]
  },
  {
   "cell_type": "code",
   "execution_count": null,
   "id": "e0053186",
   "metadata": {},
   "outputs": [],
   "source": []
  }
 ],
 "metadata": {
  "kernelspec": {
   "display_name": "Python 3 (ipykernel)",
   "language": "python",
   "name": "python3"
  },
  "language_info": {
   "codemirror_mode": {
    "name": "ipython",
    "version": 3
   },
   "file_extension": ".py",
   "mimetype": "text/x-python",
   "name": "python",
   "nbconvert_exporter": "python",
   "pygments_lexer": "ipython3",
   "version": "3.10.10"
  }
 },
 "nbformat": 4,
 "nbformat_minor": 5
}
