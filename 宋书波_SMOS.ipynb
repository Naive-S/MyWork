{
 "cells": [
  {
   "cell_type": "code",
   "execution_count": null,
   "metadata": {},
   "outputs": [],
   "source": [
    "'''\n",
    "Created on Nov 4, 2010\n",
    "Chapter 5 source file for Machine Learing in Action\n",
    "@author: Peter\n",
    "'''\n",
    "from numpy import *\n",
    "from time import sleep"
   ]
  },
  {
   "cell_type": "code",
   "execution_count": null,
   "metadata": {},
   "outputs": [],
   "source": [
    "def loadDataSet(fileName):\n",
    "    # 初始化数据和标签列表\n",
    "    dataMat = []; labelMat = []\n",
    "    \n",
    "    # 打开指定文件，返回文件对象\n",
    "    fr = open(fileName)\n",
    "    \n",
    "    # 对文件中的每一行进行迭代\n",
    "    for line in fr.readlines():\n",
    "        # 剔除字符串首尾的空格并按照 '\\t' 分割字符串，存入列表\n",
    "        lineArr = line.strip().split('\\t')\n",
    "        \n",
    "        # 将前两个元素转换为浮点数并添加到数据列表中\n",
    "        dataMat.append([float(lineArr[0]), float(lineArr[1])])\n",
    "        \n",
    "        # 将第三个元素转换为浮点数并添加到标签列表中\n",
    "        labelMat.append(float(lineArr[2]))\n",
    "        \n",
    "    # 返回数据和标签列表\n",
    "    return dataMat, labelMat\n"
   ]
  },
  {
   "cell_type": "code",
   "execution_count": null,
   "metadata": {},
   "outputs": [],
   "source": [
    "def selectJrand(i, m):\n",
    "    \"\"\"\n",
    "    随机选择一个不等于i的整数j，其中0<=j<=m-1\n",
    "    \n",
    "    Args:\n",
    "    i: int, 当前的i值\n",
    "    m: int, 选择j时的上界\n",
    "    \n",
    "    Returns:\n",
    "    j: int, 随机选择的不等于i的整数\n",
    "    \"\"\"\n",
    "    j = i  # 我们想要选择一个不等于i的任何j\n",
    "    \n",
    "    # 当j等于i时，随机选择一个0到m-1之间的整数j\n",
    "    while (j == i):\n",
    "        j = int(random.uniform(0, m))\n",
    "    \n",
    "    # 返回随机选择的不等于i的整数j\n",
    "    return j\n"
   ]
  },
  {
   "cell_type": "code",
   "execution_count": null,
   "metadata": {},
   "outputs": [],
   "source": []
  },
  {
   "cell_type": "code",
   "execution_count": null,
   "metadata": {},
   "outputs": [],
   "source": []
  }
 ],
 "metadata": {
  "language_info": {
   "name": "python"
  },
  "orig_nbformat": 4
 },
 "nbformat": 4,
 "nbformat_minor": 2
}
