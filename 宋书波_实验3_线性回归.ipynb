{
 "cells": [
  {
   "attachments": {},
   "cell_type": "markdown",
   "metadata": {},
   "source": [
    "#### 设计一元线性回归完整代码"
   ]
  },
  {
   "cell_type": "code",
   "execution_count": 5,
   "metadata": {},
   "outputs": [],
   "source": [
    "import numpy as np\n",
    "\n",
    "class LinearRegression:\n",
    "    # 学习率和迭代次数\n",
    "    def __init__(self, learning_rate=0.01, num_iterations=1000):\n",
    "        self.learning_rate = learning_rate\n",
    "        self.num_iterations = num_iterations\n",
    "        self.weights = None\n",
    "        self.bias = None\n",
    "    \n",
    "    def fit(self, X, y):\n",
    "        num_samples, num_features = X.shape\n",
    "        self.weights = np.zeros(num_features)\n",
    "        self.bias = 0\n",
    "        \n",
    "        for i in range(self.num_iterations):\n",
    "            y_pred = np.dot(X, self.weights) + self.bias\n",
    "            \n",
    "            # compute gradients\n",
    "            dw = (1/num_samples) * np.dot(X.T, (y_pred - y))\n",
    "            db = (1/num_samples) * np.sum(y_pred - y)\n",
    "            \n",
    "            # update parameters\n",
    "            self.weights -= self.learning_rate * dw\n",
    "            self.bias -= self.learning_rate * db\n",
    "    \n",
    "    def predict(self, X):\n",
    "        y_pred = np.dot(X, self.weights) + self.bias\n",
    "        return y_pred\n"
   ]
  },
  {
   "attachments": {},
   "cell_type": "markdown",
   "metadata": {},
   "source": [
    "这个类有三个方法：\n",
    "\n",
    "- __init__: 构造方法，设置模型的超参数（学习率和迭代次数）以及模型的参数（权重和偏置）。\n",
    "- fit: 训练模型，使用梯度下降法来更新模型的参数（权重和偏置）。\n",
    "- predict: 预测新数据的输出值，使用模型的参数（权重和偏置）来计算预测值。\n",
    "\n",
    "其中，fit 方法的实现使用了梯度下降法来更新模型的参数。\n",
    "\n",
    "在每次迭代中，计算预测值和真实值之间的误差，然后使用误差来计算梯度。\n",
    "\n",
    "最后，使用学习率和梯度来更新模型的参数。\n",
    "\n",
    "predict 方法的实现非常简单，只需要使用模型的参数来计算预测值即可。\n",
    "\n",
    "使用该类时，可以按照以下步骤进行：\n",
    "\n",
    "- 准备数据。将特征数据 X 和输出数据 y 分别存储为 NumPy 数组。\n",
    "- 创建一个 LinearRegression 类的实例。\n",
    "- 使用 fit 方法来训练模型，传入特征数据 X 和输出数据 y。\n",
    "- 使用 predict 方法来预测新数据的输出值，传入特征数据 X_new。"
   ]
  },
  {
   "cell_type": "code",
   "execution_count": 6,
   "metadata": {},
   "outputs": [
    {
     "name": "stdout",
     "output_type": "stream",
     "text": [
      "[5.96864124]\n"
     ]
    }
   ],
   "source": [
    "###################### 测试代码 #############################\n",
    "\n",
    "# 准备数据\n",
    "X = np.array([[1], [2], [3], [4], [5]])\n",
    "y = np.array([1, 2, 3, 4, 5])\n",
    "\n",
    "# 创建 LinearRegression 类的实例\n",
    "model = LinearRegression()\n",
    "\n",
    "# 训练模型\n",
    "model.fit(X, y)\n",
    "\n",
    "# 预测新数据\n",
    "X_new = np.array([[6]])\n",
    "y_new = model.predict(X_new)\n",
    "\n",
    "print(y_new)  # [5.4]\n"
   ]
  },
  {
   "attachments": {},
   "cell_type": "markdown",
   "metadata": {},
   "source": [
    "设计多元线性回归完整代码（根据公式计算，不使用sklearn等可直接调用的包） 注意：根据公式，逆矩阵存在的情况下，才可对矩阵求逆。 可以通过linalg.det()来计算行列式。"
   ]
  },
  {
   "cell_type": "code",
   "execution_count": 5,
   "metadata": {},
   "outputs": [],
   "source": [
    "import numpy as np\n",
    "\n",
    "class LinearRegression:\n",
    "    def __init__(self, learning_rate=0.01, num_iterations=1000):\n",
    "        self.learning_rate = learning_rate\n",
    "        self.num_iterations = num_iterations\n",
    "        self.weights = None\n",
    "        self.bias = None\n",
    "    \n",
    "    def fit(self, X, y):\n",
    "        num_samples, num_features = X.shape\n",
    "        self.weights = np.zeros(num_features)\n",
    "        self.bias = 0\n",
    "        \n",
    "        for i in range(self.num_iterations):\n",
    "            y_predicted = np.dot(X, self.weights) + self.bias\n",
    "            \n",
    "            # compute gradients\n",
    "            dw = (1/num_samples) * np.dot(X.T, (y_predicted - y))\n",
    "            db = (1/num_samples) * np.sum(y_predicted - y)\n",
    "            \n",
    "            # update parameters\n",
    "            self.weights -= self.learning_rate * dw\n",
    "            self.bias -= self.learning_rate * db\n",
    "            \n",
    "            # check if matrix is invertible\n",
    "            if np.abs(np.linalg.det(np.dot(X.T, X))) < 1e-8:\n",
    "                raise ValueError(\"The matrix X^T*X is singular and cannot be inverted.\")\n",
    "            \n",
    "            # update parameters using closed-form solution\n",
    "            self.weights = np.dot(np.dot(np.linalg.inv(np.dot(X.T, X)), X.T), y)\n",
    "    \n",
    "    def predict(self, X):\n",
    "        y_predicted = np.dot(X, self.weights) + self.bias\n",
    "        return y_predicted\n"
   ]
  },
  {
   "attachments": {},
   "cell_type": "markdown",
   "metadata": {},
   "source": [
    "这个类有两个方法：\n",
    "\n",
    "__init__: 构造方法，初始化模型的参数（权重）。\n",
    "fit: 训练模型，使用正规方程来计算模型的参数（权重）。\n",
    "predict: 预测新数据的输出值，使用模型的参数（权重）来计算预测值。\n",
    "其中，fit 方法的实现使用了正规方程来计算模型的参数。需要注意的是，在使用正规方程计算模型参数时，需要对矩阵求逆，因此需要先判断矩阵是否可逆。如果矩阵不可逆，则会抛出一个 ValueError 异常。\n",
    "\n",
    "predict 方法的实现也非常简单，只需要使用模型的参数来计算预测值即可。\n",
    "\n",
    "使用该类时，可以按照以下步骤进行：\n",
    "\n",
    "准备数据。将特征数据 X 和输出数据 y 分别存储为 NumPy 数组。\n",
    "- 创建一个 LinearRegression 类的实例。\n",
    "- 使用 fit 方法来训练模型，传入特征数据 X 和输出数据 y。\n",
    "- 使用 predict 方法来预测新数据的输出值，传入特征数据 X_new。"
   ]
  },
  {
   "cell_type": "code",
   "execution_count": 7,
   "metadata": {},
   "outputs": [
    {
     "ename": "ValueError",
     "evalue": "The matrix X^T*X is singular and cannot be inverted.",
     "output_type": "error",
     "traceback": [
      "\u001b[1;31m---------------------------------------------------------------------------\u001b[0m",
      "\u001b[1;31mValueError\u001b[0m                                Traceback (most recent call last)",
      "Cell \u001b[1;32mIn[7], line 5\u001b[0m\n\u001b[0;32m      2\u001b[0m y \u001b[39m=\u001b[39m np\u001b[39m.\u001b[39marray([\u001b[39m3\u001b[39m, \u001b[39m6\u001b[39m, \u001b[39m9\u001b[39m, \u001b[39m12\u001b[39m])\n\u001b[0;32m      4\u001b[0m model \u001b[39m=\u001b[39m LinearRegression()\n\u001b[1;32m----> 5\u001b[0m model\u001b[39m.\u001b[39;49mfit(X, y)\n",
      "Cell \u001b[1;32mIn[5], line 28\u001b[0m, in \u001b[0;36mLinearRegression.fit\u001b[1;34m(self, X, y)\u001b[0m\n\u001b[0;32m     26\u001b[0m \u001b[39m# check if matrix is invertible\u001b[39;00m\n\u001b[0;32m     27\u001b[0m \u001b[39mif\u001b[39;00m np\u001b[39m.\u001b[39mabs(np\u001b[39m.\u001b[39mlinalg\u001b[39m.\u001b[39mdet(np\u001b[39m.\u001b[39mdot(X\u001b[39m.\u001b[39mT, X))) \u001b[39m<\u001b[39m \u001b[39m1e-8\u001b[39m:\n\u001b[1;32m---> 28\u001b[0m     \u001b[39mraise\u001b[39;00m \u001b[39mValueError\u001b[39;00m(\u001b[39m\"\u001b[39m\u001b[39mThe matrix X^T*X is singular and cannot be inverted.\u001b[39m\u001b[39m\"\u001b[39m)\n\u001b[0;32m     30\u001b[0m \u001b[39m# update parameters using closed-form solution\u001b[39;00m\n\u001b[0;32m     31\u001b[0m \u001b[39mself\u001b[39m\u001b[39m.\u001b[39mweights \u001b[39m=\u001b[39m np\u001b[39m.\u001b[39mdot(np\u001b[39m.\u001b[39mdot(np\u001b[39m.\u001b[39mlinalg\u001b[39m.\u001b[39minv(np\u001b[39m.\u001b[39mdot(X\u001b[39m.\u001b[39mT, X)), X\u001b[39m.\u001b[39mT), y)\n",
      "\u001b[1;31mValueError\u001b[0m: The matrix X^T*X is singular and cannot be inverted."
     ]
    }
   ],
   "source": [
    "# 不可逆矩阵，抛出异常\n",
    "X = np.array([[1, 2], [2, 4], [3, 6], [4, 8]])\n",
    "y = np.array([3, 6, 9, 12])\n",
    "\n",
    "model = LinearRegression()\n",
    "model.fit(X, y)\n"
   ]
  },
  {
   "cell_type": "code",
   "execution_count": 8,
   "metadata": {},
   "outputs": [
    {
     "name": "stdout",
     "output_type": "stream",
     "text": [
      "Predicted values: [4.00000233 5.00000233 7.00000233]\n"
     ]
    }
   ],
   "source": [
    "# 可逆矩阵，成功执行\n",
    "X = np.array([[1, 2, 3], [4, 5, 6], [7, 8, 10]])\n",
    "y = np.array([4, 5, 7])\n",
    "\n",
    "model = LinearRegression()\n",
    "model.fit(X, y)\n",
    "\n",
    "y_pred = model.predict(X)\n",
    "print(\"Predicted values:\", y_pred)\n"
   ]
  },
  {
   "attachments": {},
   "cell_type": "markdown",
   "metadata": {},
   "source": [
    "岭回归实现 "
   ]
  },
  {
   "cell_type": "code",
   "execution_count": 2,
   "metadata": {},
   "outputs": [],
   "source": [
    "# ridege模型\n",
    "def train_and_predict(X_train, y_train, X_test, alpha):\n",
    "    # 添加一列全为1的常数项\n",
    "    X_train = np.hstack((X_train, np.ones((X_train.shape[0], 1))))\n",
    "    X_test = np.hstack((X_test, np.ones((X_test.shape[0], 1))))\n",
    "\n",
    "    # 计算回归系数\n",
    "    XTX = np.dot(X_train.T, X_train)\n",
    "    ridge = np.dot(np.linalg.inv(XTX + alpha * np.identity(X_train.shape[1])), X_train.T)\n",
    "    w = np.dot(ridge, y_train)\n",
    "\n",
    "    # 预测测试集\n",
    "    y_pred = np.dot(X_test, w)\n",
    "    return y_pred"
   ]
  }
 ],
 "metadata": {
  "kernelspec": {
   "display_name": "Python 3",
   "language": "python",
   "name": "python3"
  },
  "language_info": {
   "codemirror_mode": {
    "name": "ipython",
    "version": 3
   },
   "file_extension": ".py",
   "mimetype": "text/x-python",
   "name": "python",
   "nbconvert_exporter": "python",
   "pygments_lexer": "ipython3",
   "version": "3.10.10"
  },
  "orig_nbformat": 4
 },
 "nbformat": 4,
 "nbformat_minor": 2
}
